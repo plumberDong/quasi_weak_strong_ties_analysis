{
 "cells": [
  {
   "cell_type": "code",
   "execution_count": 215,
   "metadata": {},
   "outputs": [],
   "source": [
    "import numpy as np\n",
    "import pandas as pd\n",
    "import igraph\n",
    "import random as rnd\n",
    "import csv"
   ]
  },
  {
   "cell_type": "markdown",
   "metadata": {},
   "source": [
    "### 必要参数"
   ]
  },
  {
   "cell_type": "code",
   "execution_count": 216,
   "metadata": {},
   "outputs": [],
   "source": [
    "num_nodes = 2000\n",
    "p_rewire = .01\n",
    "z = 12\n",
    "a = 2\n",
    "mod = 3\n",
    "end_ratio = .99 # stop the contagion if proportion is greater than this ratio\n",
    "echo = True # whether print the every steps"
   ]
  },
  {
   "cell_type": "markdown",
   "metadata": {},
   "source": [
    "### 生成网络"
   ]
  },
  {
   "cell_type": "code",
   "execution_count": 217,
   "metadata": {},
   "outputs": [],
   "source": [
    "# 1. create the network\n",
    "\n",
    "# create a small world without randomness\n",
    "g = igraph.Graph.Watts_Strogatz(dim = 1,\n",
    "    size = num_nodes,\n",
    "    nei = int(z/2),\n",
    "    p = 0)\n",
    "# Randomly rewires the graph while preserving the degree distribution\n",
    "g.rewire(n = int(g.ecount() * 0.5 * p_rewire),\n",
    "    mode = \"simple\")"
   ]
  },
  {
   "cell_type": "markdown",
   "metadata": {},
   "source": [
    "### 初始化状态"
   ]
  },
  {
   "cell_type": "code",
   "execution_count": 218,
   "metadata": {},
   "outputs": [],
   "source": [
    "# 2. set up states\n",
    "\n",
    "# the initial node and its neighbors are activited\n",
    "focal_node = rnd.sample(range(num_nodes), 1)[0]\n",
    "initial_activate = g.neighborhood(vertices=focal_node,\n",
    "    order = 1)\n",
    "State = np.zeros(shape = (num_nodes,))\n",
    "State[initial_activate, ] = 1"
   ]
  },
  {
   "cell_type": "code",
   "execution_count": 219,
   "metadata": {},
   "outputs": [
    {
     "data": {
      "text/plain": [
       "(2000,)"
      ]
     },
     "execution_count": 219,
     "metadata": {},
     "output_type": "execute_result"
    }
   ],
   "source": [
    "State.shape"
   ]
  },
  {
   "cell_type": "markdown",
   "metadata": {},
   "source": [
    "### 确定权重矩阵"
   ]
  },
  {
   "cell_type": "code",
   "execution_count": 220,
   "metadata": {},
   "outputs": [],
   "source": [
    "# 3. weight matrix\n",
    "adj_matrix = g.get_adjacency_sparse() # get adjacency matrix\n",
    "\n",
    "\n",
    "# mode1\n",
    "if mod == 1:\n",
    "    WM = adj_matrix[:,:]\n",
    "# mode2 and mode3\n",
    "else:\n",
    "    # calculate edge betweeness\n",
    "    Centrality = np.array(g.edge_betweenness())\n",
    "    cut_points = np.percentile(Centrality, q=[25, 75])\n",
    "\n",
    "    # change the value based on cut_points\n",
    "    Centrality[Centrality < cut_points[0]] = 1  # ties embedded in small circle\n",
    "    Centrality[(Centrality >= cut_points[0]) & (Centrality < cut_points[1])] = 2\n",
    "    Centrality[Centrality >= cut_points[1]] = 3 # long-range ties\n",
    "    \n",
    "    # mode2\n",
    "    if mod == 2:\n",
    "        WM = adj_matrix[:,:]\n",
    "        # get index of strong ties\n",
    "        id_strong_mod2 = np.where(Centrality == 1)[0]\n",
    "        # change the matrix\n",
    "        for source_target in g.es[list(id_strong_mod2)]:\n",
    "            i, j = source_target.tuple\n",
    "            WM[i, j] = 5\n",
    "            WM[j, i] = 5\n",
    "    \n",
    "    # mode3\n",
    "    else:\n",
    "        WM = adj_matrix[:,:]\n",
    "        # get index of strong ties\n",
    "        id_strong_embed = np.random.choice(np.where(Centrality == 1)[0], \n",
    "            int(g.ecount() * .2), replace=False)\n",
    "        id_strong_long_range = np.random.choice(np.where(Centrality == 3)[0], \n",
    "            int(g.ecount() * .05), replace=False)\n",
    "        id_strong_mod3 = np.hstack((id_strong_embed, id_strong_long_range))\n",
    "        # chang the matrix\n",
    "        for source_target in g.es[list(id_strong_mod3)]:\n",
    "            i, j = source_target.tuple\n",
    "            WM[i, j] = 5\n",
    "            WM[j, i] = 5"
   ]
  },
  {
   "cell_type": "markdown",
   "metadata": {},
   "source": [
    "### 进行传播"
   ]
  },
  {
   "cell_type": "code",
   "execution_count": 221,
   "metadata": {},
   "outputs": [
    {
     "name": "stdout",
     "output_type": "stream",
     "text": [
      "第1次迭代后:  0.0235的节点被激活\n",
      "第2次迭代后:  0.0575的节点被激活\n",
      "第3次迭代后:  0.077的节点被激活\n",
      "第4次迭代后:  0.1055的节点被激活\n",
      "第5次迭代后:  0.144的节点被激活\n",
      "第6次迭代后:  0.209的节点被激活\n",
      "第7次迭代后:  0.2875的节点被激活\n",
      "第8次迭代后:  0.364的节点被激活\n",
      "第9次迭代后:  0.436的节点被激活\n",
      "第10次迭代后:  0.5175的节点被激活\n",
      "第11次迭代后:  0.605的节点被激活\n",
      "第12次迭代后:  0.7的节点被激活\n",
      "第13次迭代后:  0.8245的节点被激活\n",
      "第14次迭代后:  0.9085的节点被激活\n",
      "第15次迭代后:  0.9595的节点被激活\n",
      "第16次迭代后:  0.9905的节点被激活\n",
      "**模式3:N=2000,z=12, a=2, p_rewire=0.01, 时长16\n"
     ]
    }
   ],
   "source": [
    "times = 0 # record steps\n",
    "prop_path = [State.mean()] # record proportions\n",
    "\n",
    "# contagion process\n",
    "while prop_path[-1] <= end_ratio:\n",
    "\n",
    "    # nonactivated nodes index:\n",
    "    nonactivated_index = np.where(State != 1)[0]\n",
    "\n",
    "    # update these nonactivated nodes in random order\n",
    "    np.random.shuffle(nonactivated_index)\n",
    "    for i in nonactivated_index:\n",
    "        total_effects = np.dot(State, WM[:, i].toarray())[0]\n",
    "        if total_effects >= a:\n",
    "            State[i] = 1\n",
    "    \n",
    "    # recording after one-step iteration\n",
    "    times += 1\n",
    "    prop_path.append(State.mean())\n",
    "\n",
    "    # print this step \n",
    "    if echo:\n",
    "        print('第{}次迭代后:  {}的节点被激活'.format(times, prop_path[-1]))\n",
    "    \n",
    "    # stop the contagion if necessary\n",
    "    if prop_path[-1] == prop_path[-2]:\n",
    "        times[-1] = 9999\n",
    "        break\n",
    "\n",
    "else:\n",
    "    # write csv\n",
    "    with open(\"sim_record.csv\", \"a\") as myfile:\n",
    "        writer = csv.writer(myfile)\n",
    "        writer.writerow([mod, num_nodes, z, a, p_rewire, times])\n",
    "    print('**模式{}:N={},z={}, a={}, p_rewire={}, 时长{}'.format(mod, num_nodes, z, a, p_rewire, times))"
   ]
  }
 ],
 "metadata": {
  "interpreter": {
   "hash": "100d16a79f5a860d4d94055166eed468979a0c72fcd228b0d768c390dc2ff55f"
  },
  "kernelspec": {
   "display_name": "Python 3.9.7 ('base')",
   "language": "python",
   "name": "python3"
  },
  "language_info": {
   "codemirror_mode": {
    "name": "ipython",
    "version": 3
   },
   "file_extension": ".py",
   "mimetype": "text/x-python",
   "name": "python",
   "nbconvert_exporter": "python",
   "pygments_lexer": "ipython3",
   "version": "3.9.7"
  },
  "orig_nbformat": 4
 },
 "nbformat": 4,
 "nbformat_minor": 2
}

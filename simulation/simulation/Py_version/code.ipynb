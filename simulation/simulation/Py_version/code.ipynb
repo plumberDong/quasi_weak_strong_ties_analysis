{
 "cells": [
  {
   "cell_type": "code",
   "execution_count": 130,
   "metadata": {},
   "outputs": [],
   "source": [
    "import numpy as np\n",
    "import pandas as pd\n",
    "import networkx as nx\n",
    "import random as rnd"
   ]
  },
  {
   "cell_type": "code",
   "execution_count": 145,
   "metadata": {},
   "outputs": [],
   "source": [
    "num_nodes = 2000\n",
    "p_rewire = .01\n",
    "z = 12\n",
    "a = 1\n",
    "mod = 1"
   ]
  },
  {
   "cell_type": "code",
   "execution_count": 146,
   "metadata": {},
   "outputs": [],
   "source": [
    "# 1. 初始化网络\n",
    "G = nx.watts_strogatz_graph(n = num_nodes,\n",
    "    k = z,\n",
    "    p = 0)\n",
    "    \n",
    "G = nx.double_edge_swap(G, # rewire edges while keeping degree\n",
    "    nswap = int(len(G.edges) * p_rewire),\n",
    "    max_tries = 10000)"
   ]
  },
  {
   "cell_type": "code",
   "execution_count": 147,
   "metadata": {},
   "outputs": [],
   "source": [
    "# 2. 生成初始状态\n",
    "focal_node = rnd.sample(range(0, num_nodes), 1)[0] # 抽取一个节点\n",
    "initial_activate = list(nx.neighbors(G, focal_node)) # 提取邻节点\n",
    "initial_activate.append(focal_node) # 待激活节点list\n",
    "\n",
    "# 生成初始状态state\n",
    "for i in range(0, 2000):\n",
    "    if i in initial_activate:\n",
    "        G.nodes[i]['state'] = 1\n",
    "    else:\n",
    "        G.nodes[i]['state'] = 0\n",
    "\n",
    "# 提取属性 np.array(list(nx.get_node_attributes(G, 'state').values()))"
   ]
  },
  {
   "cell_type": "code",
   "execution_count": 148,
   "metadata": {},
   "outputs": [
    {
     "ename": "AttributeError",
     "evalue": "can't set attribute",
     "output_type": "error",
     "traceback": [
      "\u001b[1;31m---------------------------------------------------------------------------\u001b[0m",
      "\u001b[1;31mAttributeError\u001b[0m                            Traceback (most recent call last)",
      "\u001b[1;32m~\\AppData\\Local\\Temp/ipykernel_10364/3380658816.py\u001b[0m in \u001b[0;36m<module>\u001b[1;34m\u001b[0m\n\u001b[0;32m      5\u001b[0m \u001b[1;33m\u001b[0m\u001b[0m\n\u001b[0;32m      6\u001b[0m \u001b[1;31m# 3.2 模式2\u001b[0m\u001b[1;33m\u001b[0m\u001b[1;33m\u001b[0m\u001b[0m\n\u001b[1;32m----> 7\u001b[1;33m \u001b[0mG\u001b[0m\u001b[1;33m.\u001b[0m\u001b[0medges\u001b[0m \u001b[1;33m=\u001b[0m \u001b[0mnx\u001b[0m\u001b[1;33m.\u001b[0m\u001b[0medge_betweenness_centrality\u001b[0m\u001b[1;33m(\u001b[0m\u001b[0mG\u001b[0m\u001b[1;33m)\u001b[0m\u001b[1;33m\u001b[0m\u001b[1;33m\u001b[0m\u001b[0m\n\u001b[0m",
      "\u001b[1;31mAttributeError\u001b[0m: can't set attribute"
     ]
    }
   ],
   "source": [
    "# 3. 生成边权重\n",
    "# 3.1 模式1\n",
    "for k, v, attr in G.edges.data():\n",
    "    G.edges[k, v]['weight'] = 1\n",
    "\n",
    "# 3.2 模式2\n",
    "centrality = nx.edge_betweenness_centrality(G)\n",
    "\n"
   ]
  },
  {
   "cell_type": "code",
   "execution_count": null,
   "metadata": {},
   "outputs": [],
   "source": []
  }
 ],
 "metadata": {
  "interpreter": {
   "hash": "100d16a79f5a860d4d94055166eed468979a0c72fcd228b0d768c390dc2ff55f"
  },
  "kernelspec": {
   "display_name": "Python 3.9.7 ('base')",
   "language": "python",
   "name": "python3"
  },
  "language_info": {
   "codemirror_mode": {
    "name": "ipython",
    "version": 3
   },
   "file_extension": ".py",
   "mimetype": "text/x-python",
   "name": "python",
   "nbconvert_exporter": "python",
   "pygments_lexer": "ipython3",
   "version": "3.9.7"
  },
  "orig_nbformat": 4
 },
 "nbformat": 4,
 "nbformat_minor": 2
}
